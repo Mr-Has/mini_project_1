{
 "cells": [
  {
   "cell_type": "code",
   "execution_count": 1,
   "metadata": {},
   "outputs": [],
   "source": [
    "import numpy as np\n",
    "import matplotlib.pyplot as plt  \n",
    "import pandas as pd  \n",
    "from sklearn.linear_model import LinearRegression\n",
    "from sklearn.metrics import mean_squared_error\n",
    "from sklearn.metrics import r2_score\n",
    "from sklearn.preprocessing import PolynomialFeatures"
   ]
  },
  {
   "cell_type": "code",
   "execution_count": 2,
   "metadata": {},
   "outputs": [],
   "source": [
    "data = pd.read_csv('Dataset_1_train.csv')  # load data set\n",
    "X = data.iloc[:, 0].values.reshape(-1, 1)  # values converts it into a numpy array\n",
    "Y = data.iloc[:, 1].values.reshape(-1, 1)  # -1 means that calculate the dimension of rows, but have 1 column"
   ]
  },
  {
   "cell_type": "code",
   "execution_count": 3,
   "metadata": {},
   "outputs": [],
   "source": [
    "linear_regressor = LinearRegression()  # create object for the class\n",
    "linear_regressor.fit(X, Y)  # perform linear regression\n",
    "Y_pred = linear_regressor.predict(X)  # make predictions"
   ]
  },
  {
   "cell_type": "code",
   "execution_count": 4,
   "metadata": {},
   "outputs": [
    {
     "name": "stdout",
     "output_type": "stream",
     "text": [
      "<class 'pandas.core.frame.DataFrame'>\n",
      "RangeIndex: 49 entries, 0 to 48\n",
      "Data columns (total 3 columns):\n",
      " #   Column          Non-Null Count  Dtype  \n",
      "---  ------          --------------  -----  \n",
      " 0   0.516219704459  49 non-null     float64\n",
      " 1   1.60967137364   49 non-null     float64\n",
      " 2   Unnamed: 2      0 non-null      float64\n",
      "dtypes: float64(3)\n",
      "memory usage: 1.2 KB\n"
     ]
    }
   ],
   "source": [
    "data.shape\n",
    "data.dtypes\n",
    "data.info()"
   ]
  },
  {
   "cell_type": "code",
   "execution_count": 5,
   "metadata": {
    "scrolled": true
   },
   "outputs": [
    {
     "data": {
      "image/png": "[encoded data removed]",
      "text/plain": [
       "<Figure size 432x288 with 1 Axes>"
      ]
     },
     "metadata": {
      "needs_background": "light"
     },
     "output_type": "display_data"
    }
   ],
   "source": [
    "plt.scatter(X, Y, s=20)\n",
    "plt.plot(X, Y_pred, color='red')\n",
    "plt.show()"
   ]
  },
  {
   "cell_type": "code",
   "execution_count": 6,
   "metadata": {},
   "outputs": [
    {
     "data": {
      "text/plain": [
       "29.50151559664191"
      ]
     },
     "execution_count": 6,
     "metadata": {},
     "output_type": "execute_result"
    }
   ],
   "source": [
    "mean_squared_error(Y, Y_pred)"
   ]
  },
  {
   "cell_type": "code",
   "execution_count": 7,
   "metadata": {},
   "outputs": [
    {
     "data": {
      "text/plain": [
       "0.5640513863323271"
      ]
     },
     "execution_count": 7,
     "metadata": {},
     "output_type": "execute_result"
    }
   ],
   "source": [
    "r2_score(Y, Y_pred)"
   ]
  },
  {
   "cell_type": "code",
   "execution_count": 8,
   "metadata": {},
   "outputs": [
    {
     "data": {
      "text/plain": [
       "(array([ 3.,  6., 15., 14.,  4.,  2.,  3.,  0.,  1.,  1.]),\n",
       " array([-9.6550704 , -6.73627341, -3.81747642, -0.89867942,  2.02011757,\n",
       "         4.93891457,  7.85771156, 10.77650855, 13.69530555, 16.61410254,\n",
       "        19.53289954]),\n",
       " <a list of 10 Patch objects>)"
      ]
     },
     "execution_count": 8,
     "metadata": {},
     "output_type": "execute_result"
    },
    {
     "data": {
      "image/png": "[encoded data removed]",
      "text/plain": [
       "<Figure size 432x288 with 1 Axes>"
      ]
     },
     "metadata": {
      "needs_background": "light"
     },
     "output_type": "display_data"
    }
   ],
   "source": [
    "plt.hist(Y-Y_pred)"
   ]
  },
  {
   "cell_type": "code",
   "execution_count": 9,
   "metadata": {},
   "outputs": [
    {
     "data": {
      "text/plain": [
       "array([[ 1.00000000e+00,  8.28678608e+00,  6.86708236e+01, ...,\n",
       "         3.39586412e+16,  2.81407995e+17,  2.33196786e+18],\n",
       "       [ 1.00000000e+00, -1.00676068e+01,  1.01356707e+02, ...,\n",
       "         1.12894408e+18, -1.13657651e+19,  1.14426054e+20],\n",
       "       [ 1.00000000e+00,  1.52727420e+00,  2.33256648e+00, ...,\n",
       "         2.04411946e+03,  3.12193092e+03,  4.76804454e+03],\n",
       "       ...,\n",
       "       [ 1.00000000e+00, -5.38838165e+00,  2.90346568e+01, ...,\n",
       "         1.46639263e+13, -7.90148316e+13,  4.25762068e+14],\n",
       "       [ 1.00000000e+00,  7.30844373e+00,  5.34133498e+01, ...,\n",
       "         3.53873741e+15,  2.58626632e+16,  1.89015819e+17],\n",
       "       [ 1.00000000e+00, -1.17609271e+01,  1.38319407e+02, ...,\n",
       "         1.85330996e+19, -2.17966434e+20,  2.56348734e+21]])"
      ]
     },
     "execution_count": 9,
     "metadata": {},
     "output_type": "execute_result"
    }
   ],
   "source": [
    "poly = PolynomialFeatures(degree=20)\n",
    "poly.fit_transform(Y_pred)"
   ]
  },
  {
   "cell_type": "code",
   "execution_count": 10,
   "metadata": {},
   "outputs": [
    {
     "data": {
      "text/plain": [
       "array([[ 1.00000000e+00,  8.50084539e-01,  7.22643724e-01, ...,\n",
       "         5.37425310e-02,  4.56856947e-02,  3.88367027e-02],\n",
       "       [ 1.00000000e+00, -8.40628530e-01,  7.06656326e-01, ...,\n",
       "         4.39414374e-02, -3.69384260e-02,  3.10514947e-02],\n",
       "       [ 1.00000000e+00,  2.27432777e-01,  5.17256679e-02, ...,\n",
       "         2.65066576e-12,  6.02848274e-13,  1.37107457e-13],\n",
       "       ...,\n",
       "       [ 1.00000000e+00, -4.09602171e-01,  1.67773939e-01, ...,\n",
       "         1.05322340e-07, -4.31402593e-08,  1.76703439e-08],\n",
       "       [ 1.00000000e+00,  7.59964631e-01,  5.77546240e-01, ...,\n",
       "         7.14958527e-03,  5.43343193e-03,  4.12921609e-03],\n",
       "       [ 1.00000000e+00, -9.96608561e-01,  9.93228625e-01, ...,\n",
       "         9.40682461e-01, -9.37492194e-01,  9.34312747e-01]])"
      ]
     },
     "execution_count": 10,
     "metadata": {},
     "output_type": "execute_result"
    }
   ],
   "source": [
    "polynomial_features = PolynomialFeatures(degree=20)\n",
    "Y_pred = polynomial_features.fit_transform(X)\n",
    "Y_pred"
   ]
  },
  {
   "cell_type": "code",
   "execution_count": 11,
   "metadata": {},
   "outputs": [
    {
     "data": {
      "text/plain": [
       "array([[ 1.00000000e+00,  1.00000000e+00,  8.50084539e-01, ...,\n",
       "         2.45526486e-03,  2.08718270e-03,  1.77428174e-03],\n",
       "       [ 1.00000000e+00,  1.00000000e+00, -8.40628530e-01, ...,\n",
       "        -1.62312753e-03,  1.36444731e-03, -1.14699334e-03],\n",
       "       [ 1.00000000e+00,  1.00000000e+00,  2.27432777e-01, ...,\n",
       "         1.59794928e-24,  3.63426041e-25,  8.26549937e-26],\n",
       "       ...,\n",
       "       [ 1.00000000e+00,  1.00000000e+00, -4.09602171e-01, ...,\n",
       "        -4.54363308e-15,  1.86108198e-15, -7.62303218e-16],\n",
       "       [ 1.00000000e+00,  1.00000000e+00,  7.59964631e-01, ...,\n",
       "         3.88467849e-05,  2.95221825e-05,  2.24358145e-05],\n",
       "       [ 1.00000000e+00,  1.00000000e+00, -9.96608561e-01, ...,\n",
       "        -8.81882464e-01,  8.78891614e-01, -8.75910907e-01]])"
      ]
     },
     "execution_count": 11,
     "metadata": {},
     "output_type": "execute_result"
    }
   ],
   "source": [
    "poly = PolynomialFeatures(interaction_only=True)\n",
    "poly.fit_transform(Y_pred)"
   ]
  },
  {
   "cell_type": "code",
   "execution_count": 16,
   "metadata": {},
   "outputs": [
    {
     "name": "stdout",
     "output_type": "stream",
     "text": [
      "First two rows of transformed X:\n",
      "[[ 0.85008454  0.72264372  0.61430826  0.52221395  0.44392601  0.37737463\n",
      "   0.32080034  0.27270741]\n",
      " [-0.84062853  0.70665633 -0.59403547  0.49936316 -0.41977892  0.35287814\n",
      "  -0.29663943  0.24936357]]\n"
     ]
    }
   ],
   "source": [
    "# Must specify include_bias=False since sklearn's classifiers automatically add the intercept term.\n",
    "\n",
    "X_poly_8 = PolynomialFeatures(degree=8, include_bias=False).fit_transform(X)\n",
    "print('First two rows of transformed X:')\n",
    "print(X_poly_8[0:2])"
   ]
  },
  {
   "cell_type": "code",
   "execution_count": null,
   "metadata": {},
   "outputs": [],
   "source": []
  }
 ],
 "metadata": {
  "kernelspec": {
   "display_name": "Python 3",
   "language": "python",
   "name": "python3"
  },
  "language_info": {
   "codemirror_mode": {
    "name": "ipython",
    "version": 3
   },
   "file_extension": ".py",
   "mimetype": "text/x-python",
   "name": "python",
   "nbconvert_exporter": "python",
   "pygments_lexer": "ipython3",
   "version": "3.8.2"
  }
 },
 "nbformat": 4,
 "nbformat_minor": 4
}

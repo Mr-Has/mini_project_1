{
 "cells": [
  {
   "cell_type": "code",
   "execution_count": 1,
   "metadata": {},
   "outputs": [],
   "source": [
    "import numpy as np\n",
    "import matplotlib.pyplot as plt  \n",
    "import pandas as pd  \n",
    "from sklearn.linear_model import LinearRegression\n",
    "from sklearn.metrics import mean_squared_error\n",
    "from sklearn.metrics import r2_score\n",
    "from sklearn.preprocessing import PolynomialFeatures\n",
    "from sklearn.linear_model import RidgeCV\n",
    "from sklearn.metrics import max_error\n",
    "from sklearn.metrics import explained_variance_score\n",
    "from tabulate import tabulate\n",
    "%matplotlib inline"
   ]
  },
  {
   "cell_type": "markdown",
   "metadata": {},
   "source": [
    "##### Load data set\n",
    "##### Values converts it into a numpy array\n",
    "##### -1 means that calculate the dimension of rows, but have 1 column"
   ]
  },
  {
   "cell_type": "code",
   "execution_count": 2,
   "metadata": {},
   "outputs": [],
   "source": [
    "data_train = pd.read_csv('Dataset_1_train.csv')  # load data set\n",
    "X_train = data_train.iloc[:, 0].values.reshape(-1, 1)  # values converts it into a numpy array\n",
    "Y_train = data_train.iloc[:, 1].values.reshape(-1, 1)  # -1 means that calculate the dimension of rows, but have 1 column"
   ]
  },
  {
   "cell_type": "code",
   "execution_count": 3,
   "metadata": {},
   "outputs": [],
   "source": [
    "data_valid = pd.read_csv('Dataset_1_valid.csv')  # load data set\n",
    "X_valid = data_valid.iloc[:, 0].values.reshape(-1, 1)  # values converts it into a numpy array\n",
    "Y_valid = data_valid.iloc[:, 1].values.reshape(-1, 1)  # -1 means that calculate the dimension of rows, but have 1 column"
   ]
  },
  {
   "cell_type": "markdown",
   "metadata": {},
   "source": [
    "##### Creating a polynomial regression model for the given degree (0 - 20).\n",
    "##### Transforms the existing features to higher degree features.\n",
    "##### Fit the transformed features to the model\n",
    "##### As we can see from the plot on the curve has flattened on degree 4."
   ]
  },
  {
   "cell_type": "code",
   "execution_count": 4,
   "metadata": {},
   "outputs": [
    {
     "name": "stdout",
     "output_type": "stream",
     "text": [
      "[67.67200232257454, 29.503012193066315, 16.715898205749394, 13.602866149748168, 10.268766663715509, 9.775806742026806, 9.428240988342887, 9.338281130136881, 9.241439747904101, 9.243396786228056, 9.538261804540022, 9.52588321563646, 9.43429732344612, 9.434988667437702, 9.390132320711, 9.39391010008722, 9.372869293708726, 9.376618307335507, 9.368240796887141, 9.371199606156136, 9.369608039899388]\n"
     ]
    },
    {
     "data": {
      "text/plain": [
       "[<matplotlib.lines.Line2D at 0x1381ce80>]"
      ]
     },
     "execution_count": 4,
     "metadata": {},
     "output_type": "execute_result"
    },
    {
     "data": {
      "image/png": "[encoded data removed]",
      "text/plain": [
       "<Figure size 432x288 with 1 Axes>"
      ]
     },
     "metadata": {
      "needs_background": "light"
     },
     "output_type": "display_data"
    }
   ],
   "source": [
    "mse_train_list = []\n",
    "for deg in range(21):\n",
    "    X_transformed = PolynomialFeatures(degree=deg).fit_transform(X_train)\n",
    "    model = RidgeCV()\n",
    "    model.fit(X_transformed, Y_train)\n",
    "    y_pred_train = model.predict(X_transformed)\n",
    "#     print(y_pred_train)\n",
    "    mse_train = mean_squared_error(Y_train, y_pred_train)\n",
    "#     print(mse_train)\n",
    "    mse_train_list.append(mse_train)\n",
    "\n",
    "print(mse_train_list)\n",
    "plt.plot(mse_train_list)\n",
    "# plt.show()"
   ]
  },
  {
   "cell_type": "markdown",
   "metadata": {},
   "source": [
    "#####\n",
    "##### As we can see on the curve above has flattened on degree 4"
   ]
  },
  {
   "cell_type": "code",
   "execution_count": 5,
   "metadata": {},
   "outputs": [
    {
     "name": "stdout",
     "output_type": "stream",
     "text": [
      "[92.46259951483601, 27.75494125900102, 19.255377862338253, 10.06798230957992, 8.332943679586915, 8.055757471294404, 7.820981623731559, 7.792631592844156, 7.745191243543575, 7.749552057147573, 7.741017334655956, 7.746004280188696, 7.745497477108961, 7.747437097657477, 7.747734767971576, 7.747827694581975, 7.747838141528136, 7.7473695357420915, 7.747267251518266, 7.746880896168583, 7.746859353853519]\n"
     ]
    },
    {
     "data": {
      "text/plain": [
       "[<matplotlib.lines.Line2D at 0x1388afe8>]"
      ]
     },
     "execution_count": 5,
     "metadata": {},
     "output_type": "execute_result"
    },
    {
     "data": {
      "image/png": "[encoded data removed]",
      "text/plain": [
       "<Figure size 432x288 with 1 Axes>"
      ]
     },
     "metadata": {
      "needs_background": "light"
     },
     "output_type": "display_data"
    }
   ],
   "source": [
    "mse_valid_list = []\n",
    "for deg_val in range(21):\n",
    "    Y_transformed = PolynomialFeatures(degree=deg_val).fit_transform(X_valid)\n",
    "    model = RidgeCV()\n",
    "    model.fit(Y_transformed, Y_valid)\n",
    "    y_pred_valid = model.predict(Y_transformed)\n",
    "#     print(y_pred_valid)\n",
    "    mse_valid = mean_squared_error(Y_valid, y_pred_valid)\n",
    "#     print(mse_valid)\n",
    "    mse_valid_list.append(mse_valid)\n",
    "\n",
    "print(mse_valid_list)\n",
    "plt.plot(mse_valid_list)"
   ]
  },
  {
   "cell_type": "markdown",
   "metadata": {},
   "source": [
    "#####"
   ]
  },
  {
   "cell_type": "code",
   "execution_count": 6,
   "metadata": {},
   "outputs": [
    {
     "data": {
      "text/plain": [
       "[<matplotlib.lines.Line2D at 0x138e3958>]"
      ]
     },
     "execution_count": 6,
     "metadata": {},
     "output_type": "execute_result"
    },
    {
     "data": {
      "image/png": "[encoded data removed]",
      "text/plain": [
       "<Figure size 432x288 with 1 Axes>"
      ]
     },
     "metadata": {
      "needs_background": "light"
     },
     "output_type": "display_data"
    }
   ],
   "source": [
    "mse_train_list = []\n",
    "alpha_values = []\n",
    "for alpha in np.arange(0.001,1,.001):\n",
    "    X_transformed = PolynomialFeatures(degree=4).fit_transform(X_train)\n",
    "    model = RidgeCV(alphas=[alpha])\n",
    "    model.fit(X_transformed, Y_train)\n",
    "    y_pred_train = model.predict(X_transformed)\n",
    "#     print(y_pred_train)\n",
    "    mse_train = mean_squared_error(Y_train, y_pred_train)\n",
    "#    print(mse_train)\n",
    "    alpha_values.append(alpha)\n",
    "    mse_train_list.append(mse_train)\n",
    "\n",
    "    \n",
    "plt.plot(alpha_values, mse_train_list)"
   ]
  },
  {
   "cell_type": "markdown",
   "metadata": {},
   "source": [
    "##### The lowest value achieved (0.003) by alphas is by degree 4."
   ]
  },
  {
   "cell_type": "code",
   "execution_count": 7,
   "metadata": {},
   "outputs": [
    {
     "data": {
      "text/plain": [
       "0.003"
      ]
     },
     "execution_count": 7,
     "metadata": {},
     "output_type": "execute_result"
    }
   ],
   "source": [
    "alphas = []\n",
    "for elm in np.arange(0.001,1,0.001):\n",
    "    alphas.append(elm)\n",
    "X_valid_trans = PolynomialFeatures(degree=4).fit_transform(X_valid)\n",
    "model_fitted_using_val = RidgeCV(alphas=alphas, normalize=True).fit(X_valid_trans, Y_valid)\n",
    "model_fitted_using_val.alpha_"
   ]
  },
  {
   "cell_type": "markdown",
   "metadata": {},
   "source": [
    " ##### Evaluating the model on training dataset"
   ]
  },
  {
   "cell_type": "code",
   "execution_count": 8,
   "metadata": {},
   "outputs": [
    {
     "name": "stdout",
     "output_type": "stream",
     "text": [
      "Max error for trainiing dataset is: 9.966861787508165\n"
     ]
    }
   ],
   "source": [
    "mr = max_error(Y_train, y_pred_train)\n",
    "print('Max error for trainiing dataset is:', mr)"
   ]
  },
  {
   "cell_type": "code",
   "execution_count": 9,
   "metadata": {},
   "outputs": [
    {
     "name": "stdout",
     "output_type": "stream",
     "text": [
      "Mean squared error for trainiing dataset is:  12.045865105962278\n"
     ]
    }
   ],
   "source": [
    "mse = mean_squared_error(Y_train, y_pred_train)\n",
    "print('Mean squared error for trainiing dataset is: ', mse)"
   ]
  },
  {
   "cell_type": "code",
   "execution_count": 10,
   "metadata": {},
   "outputs": [
    {
     "name": "stdout",
     "output_type": "stream",
     "text": [
      "R2 for trainiing dataset is: 0.8219963250305078\n"
     ]
    }
   ],
   "source": [
    "r2 = r2_score(Y_train, y_pred_train)\n",
    "print('R2 for trainiing dataset is:', r2)"
   ]
  },
  {
   "cell_type": "markdown",
   "metadata": {},
   "source": [
    " ##### Evaluating the model on validation dataset"
   ]
  },
  {
   "cell_type": "code",
   "execution_count": 11,
   "metadata": {},
   "outputs": [
    {
     "name": "stdout",
     "output_type": "stream",
     "text": [
      "Max error for trainiing dataset is: 7.372274459326019\n"
     ]
    }
   ],
   "source": [
    "mr_v = max_error(Y_valid, y_pred_valid)\n",
    "print('Max error for trainiing dataset is:', mr_v)"
   ]
  },
  {
   "cell_type": "code",
   "execution_count": 12,
   "metadata": {},
   "outputs": [
    {
     "name": "stdout",
     "output_type": "stream",
     "text": [
      "Mean squared error for validation dataset is: 7.746859353853519\n"
     ]
    }
   ],
   "source": [
    "mse_v = mean_squared_error(Y_valid, y_pred_valid)\n",
    "print('Mean squared error for validation dataset is:', mse_v)"
   ]
  },
  {
   "cell_type": "code",
   "execution_count": 13,
   "metadata": {},
   "outputs": [
    {
     "name": "stdout",
     "output_type": "stream",
     "text": [
      "R2 for validation dataset is: 0.9162162929173271\n"
     ]
    }
   ],
   "source": [
    "r2_v = r2_score(Y_valid, y_pred_valid)\n",
    "print('R2 for validation dataset is:', r2_v)"
   ]
  },
  {
   "cell_type": "markdown",
   "metadata": {},
   "source": [
    "##### Evaluating the model on test dataset"
   ]
  },
  {
   "cell_type": "code",
   "execution_count": 14,
   "metadata": {},
   "outputs": [],
   "source": [
    "data_test = pd.read_csv('Dataset_1_test.csv')\n",
    "X_test = data_test.iloc[:, 0].values.reshape(-1, 1)\n",
    "Y_test = data_test.iloc[:, 1].values.reshape(-1, 1)"
   ]
  },
  {
   "cell_type": "code",
   "execution_count": 15,
   "metadata": {},
   "outputs": [],
   "source": [
    "model.fit(X_test, Y_test)\n",
    "y_pred_test = model.predict(X_test)"
   ]
  },
  {
   "cell_type": "code",
   "execution_count": 16,
   "metadata": {},
   "outputs": [
    {
     "name": "stdout",
     "output_type": "stream",
     "text": [
      "Max error for testing dataset is: 16.504038264964258\n"
     ]
    }
   ],
   "source": [
    "mr_t = max_error(Y_test, y_pred_test)\n",
    "print('Max error for testing dataset is:', mr_t)"
   ]
  },
  {
   "cell_type": "code",
   "execution_count": 17,
   "metadata": {},
   "outputs": [
    {
     "name": "stdout",
     "output_type": "stream",
     "text": [
      "Mean squared error for testing dataset is: 25.754050200333605\n"
     ]
    }
   ],
   "source": [
    "mse_t = mean_squared_error(Y_test, y_pred_test)\n",
    "print('Mean squared error for testing dataset is:', mse_t)"
   ]
  },
  {
   "cell_type": "code",
   "execution_count": 18,
   "metadata": {},
   "outputs": [
    {
     "name": "stdout",
     "output_type": "stream",
     "text": [
      "R2 for trainiing dataset is: 0.5773733701533343\n"
     ]
    }
   ],
   "source": [
    "r2_t = r2_score(Y_test, y_pred_test)\n",
    "print('R2 for trainiing dataset is:', r2_t)"
   ]
  },
  {
   "cell_type": "markdown",
   "metadata": {},
   "source": [
    "##### Results "
   ]
  },
  {
   "cell_type": "code",
   "execution_count": 19,
   "metadata": {},
   "outputs": [
    {
     "name": "stdout",
     "output_type": "stream",
     "text": [
      "+---------------------+--------------+--------------+-------------+\n",
      "| Validations         |   Train data |   Valid data |   Test data |\n",
      "+=====================+==============+==============+=============+\n",
      "| Mean squared error: |    12.0459   |     7.74686  |   25.7541   |\n",
      "+---------------------+--------------+--------------+-------------+\n",
      "| R2:                 |     0.821996 |     0.916216 |    0.577373 |\n",
      "+---------------------+--------------+--------------+-------------+\n",
      "| Max error:          |     9.96686  |     7.37227  |   16.504    |\n",
      "+---------------------+--------------+--------------+-------------+\n"
     ]
    }
   ],
   "source": [
    "from tabulate import tabulate\n",
    "table = [[\"Mean squared error:\", mse, mse_v, mse_t],[\"R2:\", r2, r2_v, r2_t],\n",
    "         [\"Max error:\", mr, mr_v, mr_t]]\n",
    "print(tabulate(table, headers=[\"Validations\",\"Train data\", \"Valid data\", \"Test data\"], tablefmt=\"grid\"))\n"
   ]
  },
  {
   "cell_type": "code",
   "execution_count": null,
   "metadata": {},
   "outputs": [],
   "source": []
  }
 ],
 "metadata": {
  "kernelspec": {
   "display_name": "Python 3",
   "language": "python",
   "name": "python3"
  },
  "language_info": {
   "codemirror_mode": {
    "name": "ipython",
    "version": 3
   },
   "file_extension": ".py",
   "mimetype": "text/x-python",
   "name": "python",
   "nbconvert_exporter": "python",
   "pygments_lexer": "ipython3",
   "version": "3.8.2"
  }
 },
 "nbformat": 4,
 "nbformat_minor": 4
}

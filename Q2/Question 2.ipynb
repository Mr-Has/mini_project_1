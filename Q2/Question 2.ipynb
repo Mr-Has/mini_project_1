{
 "cells": [
  {
   "cell_type": "code",
   "execution_count": 1,
   "metadata": {},
   "outputs": [],
   "source": [
    "import numpy as np\n",
    "import pandas as pd\n",
    "import matplotlib.pyplot as plt"
   ]
  },
  {
   "cell_type": "code",
   "execution_count": 2,
   "metadata": {},
   "outputs": [],
   "source": [
    "data_train = pd.read_csv('Dataset_2_train.csv')  # load data set\n",
    "X_train = data_train.iloc[:, 0].values.reshape(-1, 1)  # values converts it into a numpy array\n",
    "Y_train = data_train.iloc[:, 1].values.reshape(-1, 1)  # -1 means that calculate the dimension of rows, but have 1 column"
   ]
  },
  {
   "cell_type": "code",
   "execution_count": 3,
   "metadata": {},
   "outputs": [],
   "source": [
    "data_valid = pd.read_csv('Dataset_2_valid.csv')  # load data set\n",
    "X_valid = data_valid.iloc[:, 0].values.reshape(-1, 1)  # values converts it into a numpy array\n",
    "Y_valid = data_valid.iloc[:, 1].values.reshape(-1, 1)  # -1 means that calculate the dimension of rows, but have 1 column"
   ]
  },
  {
   "cell_type": "code",
   "execution_count": 4,
   "metadata": {},
   "outputs": [],
   "source": [
    "# plt.scatter(X_train, Y_train)"
   ]
  },
  {
   "cell_type": "code",
   "execution_count": 5,
   "metadata": {},
   "outputs": [],
   "source": [
    "# plt.scatter(X_valid, Y_valid)"
   ]
  },
  {
   "cell_type": "markdown",
   "metadata": {},
   "source": [
    "##### Cost function"
   ]
  },
  {
   "cell_type": "code",
   "execution_count": 6,
   "metadata": {},
   "outputs": [],
   "source": [
    "def lr(x, y, m_new, c_new, learning_rate, epoch):\n",
    "    N = float(len(y))\n",
    "    for i in range(epoch):\n",
    "        y_pred = (m_new * x) + c_new\n",
    "        cost = sum([t ** 2 for t in (y - y_pred)]) / N    # MSE\n",
    "        c_grad = - (2 / N) * sum (y - y_pred)             # Intercept\n",
    "        m_grad = - (2 / N) * sum (x * (y - y_pred))       # Slope\n",
    "        m_new = m_new - (learning_rate * m_grad)\n",
    "        c_new = c_new - (learning_rate * c_grad)\n",
    "        line = m_new * x + c_new\n",
    "        plt.scatter(x, y, c = 'r')\n",
    "        plt.plot(x, line)\n",
    "        plt.grid()\n",
    "#         plt.pause(3)\n",
    "#         print(cost)\n",
    "    return c_new, m_new, cost\n",
    "    "
   ]
  },
  {
   "cell_type": "code",
   "execution_count": null,
   "metadata": {},
   "outputs": [],
   "source": [
    "lr(x = X_train, y = Y_train, m_new = 0, c_new = 3, learning_rate = 1e-6, epoch = 10000)"
   ]
  },
  {
   "cell_type": "code",
   "execution_count": 8,
   "metadata": {},
   "outputs": [],
   "source": [
    "# lr(x = X_valid, y = Y_valid, m_new = 0, c_new = 0 , learning_rate = 1e-1, epoch = 1000)"
   ]
  },
  {
   "cell_type": "code",
   "execution_count": null,
   "metadata": {},
   "outputs": [],
   "source": []
  },
  {
   "cell_type": "code",
   "execution_count": null,
   "metadata": {},
   "outputs": [],
   "source": []
  }
 ],
 "metadata": {
  "kernelspec": {
   "display_name": "Python 3",
   "language": "python",
   "name": "python3"
  },
  "language_info": {
   "codemirror_mode": {
    "name": "ipython",
    "version": 3
   },
   "file_extension": ".py",
   "mimetype": "text/x-python",
   "name": "python",
   "nbconvert_exporter": "python",
   "pygments_lexer": "ipython3",
   "version": "3.8.2"
  }
 },
 "nbformat": 4,
 "nbformat_minor": 4
}
